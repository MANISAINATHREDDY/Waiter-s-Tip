{
 "cells": [
  {
   "cell_type": "markdown",
   "id": "21f76b48",
   "metadata": {},
   "source": [
    "# Waiter's Tip Prediction using Machine Learning\n",
    "This notebook walks through an end‑to‑end workflow for predicting restaurant tips. We perform EDA, preprocessing, model training, and evaluation for several regression algorithms."
   ]
  },
  {
   "cell_type": "code",
   "execution_count": null,
   "id": "0ef764ee",
   "metadata": {},
   "outputs": [],
   "source": [
    "import numpy as np\n",
    "import pandas as pd\n",
    "import seaborn as sb\n",
    "import matplotlib.pyplot as plt\n",
    "\n",
    "from sklearn.model_selection import train_test_split\n",
    "from sklearn.preprocessing import StandardScaler, LabelEncoder\n",
    "from sklearn.linear_model import LinearRegression\n",
    "from sklearn.ensemble import RandomForestRegressor, AdaBoostRegressor\n",
    "from xgboost import XGBRegressor\n",
    "from sklearn.metrics import mean_absolute_error\n",
    "\n",
    "import warnings\n",
    "warnings.filterwarnings('ignore')"
   ]
  },
  {
   "cell_type": "markdown",
   "id": "c4f2db1c",
   "metadata": {},
   "source": [
    "## Load Dataset"
   ]
  },
  {
   "cell_type": "code",
   "execution_count": null,
   "id": "efb4cdc6",
   "metadata": {},
   "outputs": [],
   "source": [
    "# If tips.csv is in the same folder, this will load it.\n",
    "df = pd.read_csv('tips.csv')\n",
    "df.head()"
   ]
  },
  {
   "cell_type": "markdown",
   "id": "98dbce56",
   "metadata": {},
   "source": [
    "## Basic Data Overview"
   ]
  },
  {
   "cell_type": "code",
   "execution_count": null,
   "id": "ee965b9b",
   "metadata": {},
   "outputs": [],
   "source": [
    "df.info()"
   ]
  },
  {
   "cell_type": "code",
   "execution_count": null,
   "id": "85fb2c53",
   "metadata": {},
   "outputs": [],
   "source": [
    "df.describe().T"
   ]
  },
  {
   "cell_type": "markdown",
   "id": "2082d94e",
   "metadata": {},
   "source": [
    "## Exploratory Data Analysis"
   ]
  },
  {
   "cell_type": "code",
   "execution_count": null,
   "id": "13a530cd",
   "metadata": {},
   "outputs": [],
   "source": [
    "plt.figure(figsize=(12,5))\n",
    "for i, col in enumerate(['total_bill', 'tip']):\n",
    "    plt.subplot(1,2,i+1)\n",
    "    sb.histplot(df[col], kde=True)\n",
    "    plt.title(f'Distribution of {col}')\n",
    "plt.tight_layout()\n",
    "plt.show()"
   ]
  },
  {
   "cell_type": "markdown",
   "id": "b2d6e877",
   "metadata": {},
   "source": [
    "## Outlier Removal"
   ]
  },
  {
   "cell_type": "code",
   "execution_count": null,
   "id": "2c70db25",
   "metadata": {},
   "outputs": [],
   "source": [
    "df = df[(df['total_bill'] < 45) & (df['tip'] < 7)]\n",
    "df.shape"
   ]
  },
  {
   "cell_type": "markdown",
   "id": "5b887dcc",
   "metadata": {},
   "source": [
    "## Encoding Categorical Features"
   ]
  },
  {
   "cell_type": "code",
   "execution_count": null,
   "id": "978c2b32",
   "metadata": {},
   "outputs": [],
   "source": [
    "le = LabelEncoder()\n",
    "for col in df.columns:\n",
    "    if df[col].dtype == object:\n",
    "        df[col] = le.fit_transform(df[col])\n",
    "df.head()"
   ]
  },
  {
   "cell_type": "markdown",
   "id": "d8fa395d",
   "metadata": {},
   "source": [
    "## Correlation Heatmap"
   ]
  },
  {
   "cell_type": "code",
   "execution_count": null,
   "id": "7324a1e5",
   "metadata": {},
   "outputs": [],
   "source": [
    "plt.figure(figsize=(6,6))\n",
    "sb.heatmap(df.corr(), annot=True, cmap='coolwarm', fmt='.2f')\n",
    "plt.show()"
   ]
  },
  {
   "cell_type": "markdown",
   "id": "b84d7690",
   "metadata": {},
   "source": [
    "## Train‑Test Split & Feature Scaling"
   ]
  },
  {
   "cell_type": "code",
   "execution_count": null,
   "id": "3c6e6302",
   "metadata": {},
   "outputs": [],
   "source": [
    "X = df.drop('tip', axis=1)\n",
    "y = df['tip']\n",
    "X_train, X_val, y_train, y_val = train_test_split(\n",
    "    X, y, test_size=0.2, random_state=22\n",
    ")\n",
    "scaler = StandardScaler()\n",
    "X_train = scaler.fit_transform(X_train)\n",
    "X_val = scaler.transform(X_val)"
   ]
  },
  {
   "cell_type": "markdown",
   "id": "8e0263b4",
   "metadata": {},
   "source": [
    "## Model Training & Evaluation"
   ]
  },
  {
   "cell_type": "code",
   "execution_count": null,
   "id": "0d9aa5c4",
   "metadata": {},
   "outputs": [],
   "source": [
    "models = [\n",
    "    LinearRegression(),\n",
    "    XGBRegressor(eval_metric='mae'),\n",
    "    RandomForestRegressor(),\n",
    "    AdaBoostRegressor()\n",
    "]\n",
    "results = {}\n",
    "for model in models:\n",
    "    model.fit(X_train, y_train)\n",
    "    preds = model.predict(X_val)\n",
    "    mae_val = mean_absolute_error(y_val, preds)\n",
    "    results[type(model).__name__] = mae_val\n",
    "\n",
    "# Display results sorted by MAE\n",
    "results = dict(sorted(results.items(), key=lambda x: x[1]))\n",
    "results"
   ]
  },
  {
   "cell_type": "markdown",
   "id": "24c15bdf",
   "metadata": {},
   "source": [
    "## Conclusion\n",
    "The **RandomForestRegressor** typically yields the lowest Mean Absolute Error on this dataset, suggesting non‑linear relationships capture tip behaviour more effectively than simple linear models. Further improvements could involve hyperparameter tuning, feature engineering (e.g., interaction terms), or exploring gradient boosting algorithms."
   ]
  }
 ],
 "metadata": {},
 "nbformat": 4,
 "nbformat_minor": 5
}
